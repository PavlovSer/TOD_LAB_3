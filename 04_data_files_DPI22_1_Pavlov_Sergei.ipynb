{
  "cells": [
    {
      "cell_type": "markdown",
      "source": [
        "**Выполнил**\n",
        "\n",
        "**Павлов Сергей Вячеславович**\n",
        "\n",
        "**группа ДПИ22-1**"
      ],
      "metadata": {
        "id": "zefZ4pVHSVSC"
      }
    },
    {
      "cell_type": "markdown",
      "metadata": {
        "id": "ubVZ6PmjtRPr"
      },
      "source": [
        "## Лабораторная работа №3\n",
        "\n"
      ]
    },
    {
      "cell_type": "markdown",
      "metadata": {
        "id": "ZhclkJ7ZtRPs"
      },
      "source": [
        "### JSON"
      ]
    },
    {
      "cell_type": "markdown",
      "metadata": {
        "id": "BgQeajyQtRPu"
      },
      "source": [
        "1.1 Считайте файл `contributors_sample.json`. Воспользовавшись модулем `json`, преобразуйте содержимое файла в соответствующие объекты python. Выведите на экран информацию о первых 3 пользователях."
      ]
    },
    {
      "cell_type": "code",
      "execution_count": 165,
      "metadata": {
        "colab": {
          "base_uri": "https://localhost:8080/"
        },
        "id": "RVvmoGjE0q5O",
        "outputId": "5ff9e58b-dc26-43d8-e48b-4309c94b254a"
      },
      "outputs": [
        {
          "output_type": "stream",
          "name": "stdout",
          "text": [
            "username: uhebert\n",
            "name: Lindsey Nguyen\n",
            "sex: F\n",
            "address: 01261 Cameron Spring\n",
            "Taylorfurt, AK 97791\n",
            "mail: jsalazar@gmail.com\n",
            "jobs: ['Energy engineer', 'Engineer, site', 'Environmental health practitioner', 'Biomedical scientist', 'Jewellery designer']\n",
            "id: 35193\n",
            "\n",
            "username: vickitaylor\n",
            "name: Cheryl Lewis\n",
            "sex: F\n",
            "address: 66992 Welch Brooks\n",
            "Marshallshire, ID 56004\n",
            "mail: bhudson@gmail.com\n",
            "jobs: ['Music therapist', 'Volunteer coordinator', 'Designer, interior/spatial']\n",
            "id: 91970\n",
            "\n",
            "username: sheilaadams\n",
            "name: Julia Allen\n",
            "sex: F\n",
            "address: Unit 1632 Box 2971\n",
            "DPO AE 23297\n",
            "mail: darren44@yahoo.com\n",
            "jobs: ['Management consultant', 'Engineer, structural', 'Lecturer, higher education', 'Theatre manager', 'Designer, textile']\n",
            "id: 1848091\n"
          ]
        }
      ],
      "source": [
        "import json\n",
        "import pickle\n",
        "import os\n",
        "import pandas as pd\n",
        "import requests\n",
        "from bs4 import BeautifulSoup\n",
        "\n",
        "with open('contributors_sample.json', 'rt', encoding='utf-8') as f:\n",
        "    list_contributors = json.load(f)\n",
        "\n",
        "s = []\n",
        "for i in range(3):\n",
        "    contributor = list_contributors[i]\n",
        "    s2 =[]\n",
        "    for details in contributor.keys():\n",
        "        s2.append(f'{details}: {contributor[details]}')\n",
        "    s.append('\\n'.join(s2))\n",
        "print('\\n\\n'.join(s))\n"
      ]
    },
    {
      "cell_type": "markdown",
      "metadata": {
        "id": "31WfdCjqtRPx"
      },
      "source": [
        "1.2 Выведите уникальные почтовые домены, содержащиеся в почтовых адресах людей"
      ]
    },
    {
      "cell_type": "code",
      "execution_count": 166,
      "metadata": {
        "colab": {
          "base_uri": "https://localhost:8080/"
        },
        "id": "kqlWOLl76nIB",
        "outputId": "6413869f-b2ec-4b5e-c7ab-0ee70d5160b7"
      },
      "outputs": [
        {
          "output_type": "stream",
          "name": "stdout",
          "text": [
            "gmail.com\n",
            "yahoo.com\n",
            "hotmail.com\n"
          ]
        }
      ],
      "source": [
        "unique_mail_domains = set()\n",
        "for contributor in list_contributors:\n",
        "    unique_mail_domains.add(contributor['mail'].split('@')[1])\n",
        "len(unique_mail_domains)\n",
        "for mail_domain in unique_mail_domains:\n",
        "    print(mail_domain)"
      ]
    },
    {
      "cell_type": "markdown",
      "metadata": {
        "id": "PeQz37fRtRPy"
      },
      "source": [
        "1.3 Напишите функцию, которая по `username` ищет человека и выводит информацию о нем. Если пользователь с заданным `username` отсутствует, возбудите исключение `ValueError`"
      ]
    },
    {
      "cell_type": "code",
      "execution_count": 167,
      "metadata": {
        "colab": {
          "base_uri": "https://localhost:8080/"
        },
        "id": "9_5g0KmdE25T",
        "outputId": "f54d1e04-0203-415e-a672-ebb62617d9aa"
      },
      "outputs": [
        {
          "output_type": "stream",
          "name": "stdout",
          "text": [
            "username: vickitaylor\n",
            "name: Cheryl Lewis\n",
            "sex: F\n",
            "address: 66992 Welch Brooks\n",
            "Marshallshire, ID 56004\n",
            "mail: bhudson@gmail.com\n",
            "jobs: ['Music therapist', 'Volunteer coordinator', 'Designer, interior/spatial']\n",
            "id: 91970\n",
            "Пользователь 'unknown_username' отсутствет.\n"
          ]
        }
      ],
      "source": [
        "def find_username(username):\n",
        "    try:\n",
        "        for contributor in list_contributors:\n",
        "            if username == contributor['username']:\n",
        "                print('\\n'.join([f'{detail}: {contributor[detail]}' for detail in contributor.keys()]))\n",
        "                return\n",
        "        raise ValueError(\"Пользователь '\" + username + \"' отсутствет.\")\n",
        "    except ValueError as e:\n",
        "        print(str(e))\n",
        "\n",
        "find_username('vickitaylor')\n",
        "find_username('unknown_username')"
      ]
    },
    {
      "cell_type": "markdown",
      "metadata": {
        "id": "4GPZHz3htRP0"
      },
      "source": [
        "1.4 Посчитайте, сколько мужчин и женщин присутсвует в этом наборе данных."
      ]
    },
    {
      "cell_type": "code",
      "execution_count": 168,
      "metadata": {
        "colab": {
          "base_uri": "https://localhost:8080/"
        },
        "id": "UCei5L_H-LeC",
        "outputId": "9fe4f2ac-a4d9-449e-ffca-ddc38dc75e70"
      },
      "outputs": [
        {
          "output_type": "stream",
          "name": "stdout",
          "text": [
            "Количество женщин: 2136\n",
            "Количество мужчин: 2064\n"
          ]
        }
      ],
      "source": [
        "amount_gender = {'F': 0, 'M': 0}\n",
        "for contributor in list_contributors:\n",
        "    amount_gender[contributor['sex']] += 1\n",
        "print(f\"Количество женщин: {amount_gender['F']}\\nКоличество мужчин: {amount_gender['M']}\")"
      ]
    },
    {
      "cell_type": "markdown",
      "metadata": {
        "id": "cwDjE6qLtRP1"
      },
      "source": [
        "1.5 Создайте `pd.DataFrame` `contributors`, имеющий столбцы `id`, `username` и `sex`."
      ]
    },
    {
      "cell_type": "code",
      "execution_count": 169,
      "metadata": {
        "colab": {
          "base_uri": "https://localhost:8080/",
          "height": 424
        },
        "id": "ljX7pL7XYBPV",
        "outputId": "007d74a2-f666-4326-faa3-a4d67511542b"
      },
      "outputs": [
        {
          "output_type": "execute_result",
          "data": {
            "text/plain": [
              "           id       username sex\n",
              "0       35193        uhebert   F\n",
              "1       91970    vickitaylor   F\n",
              "2     1848091    sheilaadams   F\n",
              "3       50969       nicole82   F\n",
              "4      676820         jean67   M\n",
              "...       ...            ...  ..\n",
              "4195   423555  stevenspencer   F\n",
              "4196    35251      rwilliams   M\n",
              "4197   135887      lmartinez   F\n",
              "4198   212714     brendahill   M\n",
              "4199   344321       mistyray   F\n",
              "\n",
              "[4200 rows x 3 columns]"
            ],
            "text/html": [
              "\n",
              "  <div id=\"df-bc61009b-537a-4e85-b565-2e361852d58a\">\n",
              "    <div class=\"colab-df-container\">\n",
              "      <div>\n",
              "<style scoped>\n",
              "    .dataframe tbody tr th:only-of-type {\n",
              "        vertical-align: middle;\n",
              "    }\n",
              "\n",
              "    .dataframe tbody tr th {\n",
              "        vertical-align: top;\n",
              "    }\n",
              "\n",
              "    .dataframe thead th {\n",
              "        text-align: right;\n",
              "    }\n",
              "</style>\n",
              "<table border=\"1\" class=\"dataframe\">\n",
              "  <thead>\n",
              "    <tr style=\"text-align: right;\">\n",
              "      <th></th>\n",
              "      <th>id</th>\n",
              "      <th>username</th>\n",
              "      <th>sex</th>\n",
              "    </tr>\n",
              "  </thead>\n",
              "  <tbody>\n",
              "    <tr>\n",
              "      <th>0</th>\n",
              "      <td>35193</td>\n",
              "      <td>uhebert</td>\n",
              "      <td>F</td>\n",
              "    </tr>\n",
              "    <tr>\n",
              "      <th>1</th>\n",
              "      <td>91970</td>\n",
              "      <td>vickitaylor</td>\n",
              "      <td>F</td>\n",
              "    </tr>\n",
              "    <tr>\n",
              "      <th>2</th>\n",
              "      <td>1848091</td>\n",
              "      <td>sheilaadams</td>\n",
              "      <td>F</td>\n",
              "    </tr>\n",
              "    <tr>\n",
              "      <th>3</th>\n",
              "      <td>50969</td>\n",
              "      <td>nicole82</td>\n",
              "      <td>F</td>\n",
              "    </tr>\n",
              "    <tr>\n",
              "      <th>4</th>\n",
              "      <td>676820</td>\n",
              "      <td>jean67</td>\n",
              "      <td>M</td>\n",
              "    </tr>\n",
              "    <tr>\n",
              "      <th>...</th>\n",
              "      <td>...</td>\n",
              "      <td>...</td>\n",
              "      <td>...</td>\n",
              "    </tr>\n",
              "    <tr>\n",
              "      <th>4195</th>\n",
              "      <td>423555</td>\n",
              "      <td>stevenspencer</td>\n",
              "      <td>F</td>\n",
              "    </tr>\n",
              "    <tr>\n",
              "      <th>4196</th>\n",
              "      <td>35251</td>\n",
              "      <td>rwilliams</td>\n",
              "      <td>M</td>\n",
              "    </tr>\n",
              "    <tr>\n",
              "      <th>4197</th>\n",
              "      <td>135887</td>\n",
              "      <td>lmartinez</td>\n",
              "      <td>F</td>\n",
              "    </tr>\n",
              "    <tr>\n",
              "      <th>4198</th>\n",
              "      <td>212714</td>\n",
              "      <td>brendahill</td>\n",
              "      <td>M</td>\n",
              "    </tr>\n",
              "    <tr>\n",
              "      <th>4199</th>\n",
              "      <td>344321</td>\n",
              "      <td>mistyray</td>\n",
              "      <td>F</td>\n",
              "    </tr>\n",
              "  </tbody>\n",
              "</table>\n",
              "<p>4200 rows × 3 columns</p>\n",
              "</div>\n",
              "      <button class=\"colab-df-convert\" onclick=\"convertToInteractive('df-bc61009b-537a-4e85-b565-2e361852d58a')\"\n",
              "              title=\"Convert this dataframe to an interactive table.\"\n",
              "              style=\"display:none;\">\n",
              "        \n",
              "  <svg xmlns=\"http://www.w3.org/2000/svg\" height=\"24px\"viewBox=\"0 0 24 24\"\n",
              "       width=\"24px\">\n",
              "    <path d=\"M0 0h24v24H0V0z\" fill=\"none\"/>\n",
              "    <path d=\"M18.56 5.44l.94 2.06.94-2.06 2.06-.94-2.06-.94-.94-2.06-.94 2.06-2.06.94zm-11 1L8.5 8.5l.94-2.06 2.06-.94-2.06-.94L8.5 2.5l-.94 2.06-2.06.94zm10 10l.94 2.06.94-2.06 2.06-.94-2.06-.94-.94-2.06-.94 2.06-2.06.94z\"/><path d=\"M17.41 7.96l-1.37-1.37c-.4-.4-.92-.59-1.43-.59-.52 0-1.04.2-1.43.59L10.3 9.45l-7.72 7.72c-.78.78-.78 2.05 0 2.83L4 21.41c.39.39.9.59 1.41.59.51 0 1.02-.2 1.41-.59l7.78-7.78 2.81-2.81c.8-.78.8-2.07 0-2.86zM5.41 20L4 18.59l7.72-7.72 1.47 1.35L5.41 20z\"/>\n",
              "  </svg>\n",
              "      </button>\n",
              "      \n",
              "  <style>\n",
              "    .colab-df-container {\n",
              "      display:flex;\n",
              "      flex-wrap:wrap;\n",
              "      gap: 12px;\n",
              "    }\n",
              "\n",
              "    .colab-df-convert {\n",
              "      background-color: #E8F0FE;\n",
              "      border: none;\n",
              "      border-radius: 50%;\n",
              "      cursor: pointer;\n",
              "      display: none;\n",
              "      fill: #1967D2;\n",
              "      height: 32px;\n",
              "      padding: 0 0 0 0;\n",
              "      width: 32px;\n",
              "    }\n",
              "\n",
              "    .colab-df-convert:hover {\n",
              "      background-color: #E2EBFA;\n",
              "      box-shadow: 0px 1px 2px rgba(60, 64, 67, 0.3), 0px 1px 3px 1px rgba(60, 64, 67, 0.15);\n",
              "      fill: #174EA6;\n",
              "    }\n",
              "\n",
              "    [theme=dark] .colab-df-convert {\n",
              "      background-color: #3B4455;\n",
              "      fill: #D2E3FC;\n",
              "    }\n",
              "\n",
              "    [theme=dark] .colab-df-convert:hover {\n",
              "      background-color: #434B5C;\n",
              "      box-shadow: 0px 1px 3px 1px rgba(0, 0, 0, 0.15);\n",
              "      filter: drop-shadow(0px 1px 2px rgba(0, 0, 0, 0.3));\n",
              "      fill: #FFFFFF;\n",
              "    }\n",
              "  </style>\n",
              "\n",
              "      <script>\n",
              "        const buttonEl =\n",
              "          document.querySelector('#df-bc61009b-537a-4e85-b565-2e361852d58a button.colab-df-convert');\n",
              "        buttonEl.style.display =\n",
              "          google.colab.kernel.accessAllowed ? 'block' : 'none';\n",
              "\n",
              "        async function convertToInteractive(key) {\n",
              "          const element = document.querySelector('#df-bc61009b-537a-4e85-b565-2e361852d58a');\n",
              "          const dataTable =\n",
              "            await google.colab.kernel.invokeFunction('convertToInteractive',\n",
              "                                                     [key], {});\n",
              "          if (!dataTable) return;\n",
              "\n",
              "          const docLinkHtml = 'Like what you see? Visit the ' +\n",
              "            '<a target=\"_blank\" href=https://colab.research.google.com/notebooks/data_table.ipynb>data table notebook</a>'\n",
              "            + ' to learn more about interactive tables.';\n",
              "          element.innerHTML = '';\n",
              "          dataTable['output_type'] = 'display_data';\n",
              "          await google.colab.output.renderOutput(dataTable, element);\n",
              "          const docLink = document.createElement('div');\n",
              "          docLink.innerHTML = docLinkHtml;\n",
              "          element.appendChild(docLink);\n",
              "        }\n",
              "      </script>\n",
              "    </div>\n",
              "  </div>\n",
              "  "
            ]
          },
          "metadata": {},
          "execution_count": 169
        }
      ],
      "source": [
        "d = []\n",
        "for contributor in list_contributors:\n",
        "    d.append({'id': contributor['id'],'username': contributor['username'], 'sex': contributor['sex'] })\n",
        "\n",
        "contributors = pd.DataFrame(d)\n",
        "contributors"
      ]
    },
    {
      "cell_type": "markdown",
      "metadata": {
        "id": "Rg7p8B_HtRP2"
      },
      "source": [
        "1.6 Загрузите данные из файла `recipes_sample.csv` (__ЛР2__) в таблицу `recipes`. Объедините `recipes` с таблицей `contributors` с сохранением строк в том случае, если информация о человеке отсутствует в JSON-файле. Для скольких человек информация отсутствует? "
      ]
    },
    {
      "cell_type": "code",
      "execution_count": 170,
      "metadata": {
        "colab": {
          "base_uri": "https://localhost:8080/"
        },
        "id": "1og4XGngaJoJ",
        "outputId": "83368d24-f4e0-4351-c6ba-92562c69f87c"
      },
      "outputs": [
        {
          "output_type": "stream",
          "name": "stdout",
          "text": [
            "                                     name    id_x  minutes  contributor_id  \\\n",
            "19           i can t believe it s spinach   38798       30            1533   \n",
            "20                 3 corn casserole bread   79826       70            1533   \n",
            "21                      abm spinach bread   19618       10            1533   \n",
            "22       all canadian turkey cheeseburger   37313       31            1533   \n",
            "23         almond crusted chicken breasts   22337       35            1533   \n",
            "...                                   ...     ...      ...             ...   \n",
            "29994                zucchini pizza boats  468144       35         1885554   \n",
            "29995                     zucchini strips  279769       30          522304   \n",
            "29996  zucchini with bacon corn   peppers  326105       45          896136   \n",
            "29998           zucchini with serrano ham  162411       15          152500   \n",
            "29999            zucchini potato pancakes  180833       45          186118   \n",
            "\n",
            "        submitted  n_steps                                        description  \\\n",
            "19     2002-08-29      NaN            these were so go, it surprised even me.   \n",
            "20     2003-12-30      NaN     i served this with goulash and it was perfect.   \n",
            "21     2002-02-13      NaN                                                NaN   \n",
            "22     2002-08-15      8.0                                                NaN   \n",
            "23     2002-03-14      NaN                                                NaN   \n",
            "...           ...      ...                                                ...   \n",
            "29994  2011-11-13     10.0  this recipe originally appeared on budgetbytes...   \n",
            "29995  2008-01-18      8.0              spicy, salty, crispy zucchini strips!   \n",
            "29996  2008-09-19      8.0  this is a very colorful addition to any meal. ...   \n",
            "29998  2006-03-31      6.0  this dish is from tim malzer, a german chef wh...   \n",
            "29999  2006-08-07      NaN  this recipe was posted in our local newspaper,...   \n",
            "\n",
            "       n_ingredients  id_y username  sex  \n",
            "19               8.0   NaN      NaN  NaN  \n",
            "20               NaN   NaN      NaN  NaN  \n",
            "21               NaN   NaN      NaN  NaN  \n",
            "22              12.0   NaN      NaN  NaN  \n",
            "23               NaN   NaN      NaN  NaN  \n",
            "...              ...   ...      ...  ...  \n",
            "29994            NaN   NaN      NaN  NaN  \n",
            "29995            4.0   NaN      NaN  NaN  \n",
            "29996            7.0   NaN      NaN  NaN  \n",
            "29998            5.0   NaN      NaN  NaN  \n",
            "29999            9.0   NaN      NaN  NaN  \n",
            "\n",
            "[15059 rows x 11 columns]\n",
            "Информация отсутствует у  4204  человек.\n"
          ]
        }
      ],
      "source": [
        "recipes = pd.read_csv('recipes_sample.csv')\n",
        "DataFrame2 = pd.merge(recipes, contributors, left_on='contributor_id', right_on='id', how='outer')\n",
        "\n",
        "print(DataFrame2[DataFrame2['username'].isna()])\n",
        "\n",
        "users = DataFrame2[DataFrame2['username'].isna()].groupby('contributor_id').count()\n",
        "print(\"Информация отсутствует у \", len(users), \" человек.\")"
      ]
    },
    {
      "cell_type": "markdown",
      "metadata": {
        "id": "f17YENLUtRP4"
      },
      "source": [
        "### pickle"
      ]
    },
    {
      "cell_type": "markdown",
      "metadata": {
        "id": "Zr8yqMMytRP6"
      },
      "source": [
        "2.1 На основе файла `contributors_sample.json` создайте словарь следующего вида: \n",
        "```\n",
        "{\n",
        "    должность: [список username людей, занимавших эту должность]\n",
        "}\n",
        "```"
      ]
    },
    {
      "cell_type": "code",
      "execution_count": 171,
      "metadata": {
        "colab": {
          "base_uri": "https://localhost:8080/"
        },
        "id": "aKkBm9SlKXTD",
        "outputId": "7f9ec003-03b9-4aff-d652-249524c2a596"
      },
      "outputs": [
        {
          "output_type": "execute_result",
          "data": {
            "text/plain": [
              "639"
            ]
          },
          "metadata": {},
          "execution_count": 171
        }
      ],
      "source": [
        "contributors_job = {}\n",
        "for contributor in list_contributors:\n",
        "    for job in contributor['jobs']:\n",
        "        if job in contributors_job:\n",
        "            contributors_job[job].append(contributor['username'])\n",
        "        else:\n",
        "            contributors_job[job] = [contributor['username']]\n",
        "len(contributors_job)"
      ]
    },
    {
      "cell_type": "markdown",
      "metadata": {
        "id": "u1SSV8EKtRP8"
      },
      "source": [
        "2.2 Сохраните результаты в файл `job_people.pickle` и в файл `job_people.json` с использованием форматов pickle и JSON соответственно. Сравните объемы получившихся файлов. При сохранении в JSON укажите аргумент `indent`."
      ]
    },
    {
      "cell_type": "code",
      "execution_count": 172,
      "metadata": {
        "colab": {
          "base_uri": "https://localhost:8080/"
        },
        "id": "rR2yEvcVNLt3",
        "outputId": "2a62c8ff-cfba-4ccf-ba5f-94096321ae28"
      },
      "outputs": [
        {
          "output_type": "stream",
          "name": "stdout",
          "text": [
            "Объем файла 'job_people.pickle' меньше объема файла 'job_people.json'\n"
          ]
        }
      ],
      "source": [
        "with open('job_people.pickle', 'wb') as f:\n",
        "    pickle.dump(contributors_job, f)\n",
        "\n",
        "with open('job_people.json', 'wt', encoding='utf-8') as f:\n",
        "    json.dump(contributors_job, f, indent=2)\n",
        "\n",
        "if os.path.getsize('job_people.pickle') == os.path.getsize('job_people.json'):\n",
        "    print(\"Объем файла 'job_people.pickle' равен объему файла 'job_people.json'\")\n",
        "elif os.path.getsize('job_people.pickle') < os.path.getsize('job_people.json'):\n",
        "    print(\"Объем файла 'job_people.pickle' меньше объема файла 'job_people.json'\")\n",
        "else:\n",
        "    print(\"Объем файла 'job_people.pickle' больше объема файла 'job_people.json'\")"
      ]
    },
    {
      "cell_type": "markdown",
      "metadata": {
        "id": "2LE3kwvWtRP-"
      },
      "source": [
        "2.3 Считайте файл `job_people.pickle` и продемонстрируйте, что данные считались корректно. "
      ]
    },
    {
      "cell_type": "code",
      "execution_count": 173,
      "metadata": {
        "colab": {
          "base_uri": "https://localhost:8080/"
        },
        "id": "la6RZjWMR1QF",
        "outputId": "0e0c695a-06d0-46bd-ad6c-dc2fc583b59c"
      },
      "outputs": [
        {
          "output_type": "stream",
          "name": "stdout",
          "text": [
            "Данные считались корректно.\n"
          ]
        }
      ],
      "source": [
        "with open('job_people.pickle', 'rb') as f:\n",
        "    demo = pickle.load(f)\n",
        "\n",
        "#demo['Energy engineer']\n",
        "if contributors_job == demo:\n",
        "    print(\"Данные считались корректно.\")"
      ]
    },
    {
      "cell_type": "markdown",
      "metadata": {
        "id": "G_GX-r39tRQA"
      },
      "source": [
        "### XML"
      ]
    },
    {
      "cell_type": "markdown",
      "metadata": {
        "id": "kIQV6_PGtRQB"
      },
      "source": [
        "3.1 По данным файла `steps_sample.xml` сформируйте словарь с шагами по каждому рецепту вида `{id_рецепта: [\"шаг1\", \"шаг2\"]}`. Сохраните этот словарь в файл `steps_sample.json`"
      ]
    },
    {
      "cell_type": "code",
      "execution_count": 174,
      "metadata": {
        "id": "hWFBYXzWZtLZ"
      },
      "outputs": [],
      "source": [
        "with open('steps_sample.xml', 'rt') as f:\n",
        "    content = BeautifulSoup(f, 'xml')\n",
        "\n",
        "dict_recipes_steps = {}\n",
        "for recipe in content.recipes.find_all('recipe'):\n",
        "    dict_recipes_steps[recipe.find('id').text.strip()] = [step.text for step in recipe.steps.find_all('step')]\n",
        "\n",
        "with open('steps_sample.json', 'wt', encoding='utf-8') as f:\n",
        "    json.dump(dict_recipes_steps, f, indent=2)"
      ]
    },
    {
      "cell_type": "markdown",
      "metadata": {
        "id": "Gl4r9-6btRQC"
      },
      "source": [
        "3.2 По данным файла `steps_sample.xml` сформируйте словарь следующего вида: `кол-во_шагов_в_рецепте: [список_id_рецептов]`"
      ]
    },
    {
      "cell_type": "code",
      "source": [
        "dict_n_steps = {}\n",
        "\n",
        "for recipe in content.recipes.find_all('recipe'):\n",
        "    n_step = len([step for step in recipe.steps.find_all('step')])\n",
        "    if n_step in dict_n_steps:\n",
        "        dict_n_steps[n_step].append(recipe.find('id').text)\n",
        "    else:\n",
        "        dict_n_steps[n_step] = [recipe.find('id').text]"
      ],
      "metadata": {
        "id": "HoQjuR1rswM3"
      },
      "execution_count": 175,
      "outputs": []
    },
    {
      "cell_type": "markdown",
      "metadata": {
        "id": "AiVVp7YktRQD"
      },
      "source": [
        "3.3 Получите список рецептов, в этапах выполнения которых есть информация о времени (часы или минуты). Для отбора подходящих рецептов обратите внимание на атрибуты соответствующих тэгов."
      ]
    },
    {
      "cell_type": "code",
      "source": [
        "list_recipes_with_time = []\n",
        "\n",
        "for recipe in content.recipes.find_all('recipe'):\n",
        "    if len([x.attrs for x in recipe.steps.find_all('step') if x.attrs]) != 0:\n",
        "        list_recipes_with_time.append(recipe.find('id').text)\n",
        "\n",
        "#list_recipes_with_time"
      ],
      "metadata": {
        "id": "33UhF6V_V_Pb"
      },
      "execution_count": 176,
      "outputs": []
    },
    {
      "cell_type": "markdown",
      "metadata": {
        "id": "tbhiNAhHtRQE"
      },
      "source": [
        "3.4 Загрузите данные из файла `recipes_sample.csv` (__ЛР2__) в таблицу `recipes`. Для строк, которые содержат пропуски в столбце `n_steps`, заполните этот столбец на основе файла  `steps_sample.xml`. Строки, в которых столбец `n_steps` заполнен, оставьте без изменений."
      ]
    },
    {
      "cell_type": "code",
      "source": [
        "recipes = pd.read_csv('recipes_sample.csv')\n",
        "steps ={k: len(v) for k,v in dict_recipes_steps.items()}\n",
        "DataFrame2 = pd.DataFrame(steps.items(), columns=['id', 'n_steps'])\n",
        "recipes[['id', 'n_steps']] = recipes[['id', 'n_steps']].fillna(DataFrame2)\n",
        "recipes"
      ],
      "metadata": {
        "colab": {
          "base_uri": "https://localhost:8080/",
          "height": 607
        },
        "id": "jFY6WhZ_WK3k",
        "outputId": "b7277be8-c9aa-4c77-b9e5-71a723b2a884"
      },
      "execution_count": 177,
      "outputs": [
        {
          "output_type": "execute_result",
          "data": {
            "text/plain": [
              "                                               name      id  minutes  \\\n",
              "0             george s at the cove  black bean soup   44123       90   \n",
              "1                healthy for them  yogurt popsicles   67664       10   \n",
              "2                      i can t believe it s spinach   38798       30   \n",
              "3                              italian  gut busters   35173       45   \n",
              "4          love is in the air  beef fondue   sauces   84797       25   \n",
              "...                                             ...     ...      ...   \n",
              "29995  zurie s holey rustic olive and cheddar bread  267661       80   \n",
              "29996          zwetschgenkuchen  bavarian plum cake  386977      240   \n",
              "29997   zwiebelkuchen   southwest german onion cake  103312       75   \n",
              "29998                                   zydeco soup  486161       60   \n",
              "29999        cookies by design   cookies on a stick  298512       29   \n",
              "\n",
              "       contributor_id   submitted  n_steps  \\\n",
              "0               35193  2002-10-25     11.0   \n",
              "1               91970  2003-07-26      3.0   \n",
              "2                1533  2002-08-29      5.0   \n",
              "3               22724  2002-07-27      7.0   \n",
              "4                4470  2004-02-23      4.0   \n",
              "...               ...         ...      ...   \n",
              "29995          200862  2007-11-25     16.0   \n",
              "29996          177443  2009-08-24     22.0   \n",
              "29997          161745  2004-11-03     10.0   \n",
              "29998          227978  2012-08-29      7.0   \n",
              "29999          506822  2008-04-15      9.0   \n",
              "\n",
              "                                             description  n_ingredients  \n",
              "0      an original recipe created by chef scott meska...           18.0  \n",
              "1      my children and their friends ask for my homem...            NaN  \n",
              "2                these were so go, it surprised even me.            8.0  \n",
              "3      my sister-in-law made these for us at a family...            NaN  \n",
              "4      i think a fondue is a very romantic casual din...            NaN  \n",
              "...                                                  ...            ...  \n",
              "29995  this is based on a french recipe but i changed...           10.0  \n",
              "29996  this is a traditional fresh plum cake, thought...           11.0  \n",
              "29997  this is a traditional late summer early fall s...            NaN  \n",
              "29998  this is a delicious soup that i originally fou...            NaN  \n",
              "29999  i've heard of the 'cookies by design' company,...           10.0  \n",
              "\n",
              "[30000 rows x 8 columns]"
            ],
            "text/html": [
              "\n",
              "  <div id=\"df-03825dc1-9462-449f-a62a-031a62b2d858\">\n",
              "    <div class=\"colab-df-container\">\n",
              "      <div>\n",
              "<style scoped>\n",
              "    .dataframe tbody tr th:only-of-type {\n",
              "        vertical-align: middle;\n",
              "    }\n",
              "\n",
              "    .dataframe tbody tr th {\n",
              "        vertical-align: top;\n",
              "    }\n",
              "\n",
              "    .dataframe thead th {\n",
              "        text-align: right;\n",
              "    }\n",
              "</style>\n",
              "<table border=\"1\" class=\"dataframe\">\n",
              "  <thead>\n",
              "    <tr style=\"text-align: right;\">\n",
              "      <th></th>\n",
              "      <th>name</th>\n",
              "      <th>id</th>\n",
              "      <th>minutes</th>\n",
              "      <th>contributor_id</th>\n",
              "      <th>submitted</th>\n",
              "      <th>n_steps</th>\n",
              "      <th>description</th>\n",
              "      <th>n_ingredients</th>\n",
              "    </tr>\n",
              "  </thead>\n",
              "  <tbody>\n",
              "    <tr>\n",
              "      <th>0</th>\n",
              "      <td>george s at the cove  black bean soup</td>\n",
              "      <td>44123</td>\n",
              "      <td>90</td>\n",
              "      <td>35193</td>\n",
              "      <td>2002-10-25</td>\n",
              "      <td>11.0</td>\n",
              "      <td>an original recipe created by chef scott meska...</td>\n",
              "      <td>18.0</td>\n",
              "    </tr>\n",
              "    <tr>\n",
              "      <th>1</th>\n",
              "      <td>healthy for them  yogurt popsicles</td>\n",
              "      <td>67664</td>\n",
              "      <td>10</td>\n",
              "      <td>91970</td>\n",
              "      <td>2003-07-26</td>\n",
              "      <td>3.0</td>\n",
              "      <td>my children and their friends ask for my homem...</td>\n",
              "      <td>NaN</td>\n",
              "    </tr>\n",
              "    <tr>\n",
              "      <th>2</th>\n",
              "      <td>i can t believe it s spinach</td>\n",
              "      <td>38798</td>\n",
              "      <td>30</td>\n",
              "      <td>1533</td>\n",
              "      <td>2002-08-29</td>\n",
              "      <td>5.0</td>\n",
              "      <td>these were so go, it surprised even me.</td>\n",
              "      <td>8.0</td>\n",
              "    </tr>\n",
              "    <tr>\n",
              "      <th>3</th>\n",
              "      <td>italian  gut busters</td>\n",
              "      <td>35173</td>\n",
              "      <td>45</td>\n",
              "      <td>22724</td>\n",
              "      <td>2002-07-27</td>\n",
              "      <td>7.0</td>\n",
              "      <td>my sister-in-law made these for us at a family...</td>\n",
              "      <td>NaN</td>\n",
              "    </tr>\n",
              "    <tr>\n",
              "      <th>4</th>\n",
              "      <td>love is in the air  beef fondue   sauces</td>\n",
              "      <td>84797</td>\n",
              "      <td>25</td>\n",
              "      <td>4470</td>\n",
              "      <td>2004-02-23</td>\n",
              "      <td>4.0</td>\n",
              "      <td>i think a fondue is a very romantic casual din...</td>\n",
              "      <td>NaN</td>\n",
              "    </tr>\n",
              "    <tr>\n",
              "      <th>...</th>\n",
              "      <td>...</td>\n",
              "      <td>...</td>\n",
              "      <td>...</td>\n",
              "      <td>...</td>\n",
              "      <td>...</td>\n",
              "      <td>...</td>\n",
              "      <td>...</td>\n",
              "      <td>...</td>\n",
              "    </tr>\n",
              "    <tr>\n",
              "      <th>29995</th>\n",
              "      <td>zurie s holey rustic olive and cheddar bread</td>\n",
              "      <td>267661</td>\n",
              "      <td>80</td>\n",
              "      <td>200862</td>\n",
              "      <td>2007-11-25</td>\n",
              "      <td>16.0</td>\n",
              "      <td>this is based on a french recipe but i changed...</td>\n",
              "      <td>10.0</td>\n",
              "    </tr>\n",
              "    <tr>\n",
              "      <th>29996</th>\n",
              "      <td>zwetschgenkuchen  bavarian plum cake</td>\n",
              "      <td>386977</td>\n",
              "      <td>240</td>\n",
              "      <td>177443</td>\n",
              "      <td>2009-08-24</td>\n",
              "      <td>22.0</td>\n",
              "      <td>this is a traditional fresh plum cake, thought...</td>\n",
              "      <td>11.0</td>\n",
              "    </tr>\n",
              "    <tr>\n",
              "      <th>29997</th>\n",
              "      <td>zwiebelkuchen   southwest german onion cake</td>\n",
              "      <td>103312</td>\n",
              "      <td>75</td>\n",
              "      <td>161745</td>\n",
              "      <td>2004-11-03</td>\n",
              "      <td>10.0</td>\n",
              "      <td>this is a traditional late summer early fall s...</td>\n",
              "      <td>NaN</td>\n",
              "    </tr>\n",
              "    <tr>\n",
              "      <th>29998</th>\n",
              "      <td>zydeco soup</td>\n",
              "      <td>486161</td>\n",
              "      <td>60</td>\n",
              "      <td>227978</td>\n",
              "      <td>2012-08-29</td>\n",
              "      <td>7.0</td>\n",
              "      <td>this is a delicious soup that i originally fou...</td>\n",
              "      <td>NaN</td>\n",
              "    </tr>\n",
              "    <tr>\n",
              "      <th>29999</th>\n",
              "      <td>cookies by design   cookies on a stick</td>\n",
              "      <td>298512</td>\n",
              "      <td>29</td>\n",
              "      <td>506822</td>\n",
              "      <td>2008-04-15</td>\n",
              "      <td>9.0</td>\n",
              "      <td>i've heard of the 'cookies by design' company,...</td>\n",
              "      <td>10.0</td>\n",
              "    </tr>\n",
              "  </tbody>\n",
              "</table>\n",
              "<p>30000 rows × 8 columns</p>\n",
              "</div>\n",
              "      <button class=\"colab-df-convert\" onclick=\"convertToInteractive('df-03825dc1-9462-449f-a62a-031a62b2d858')\"\n",
              "              title=\"Convert this dataframe to an interactive table.\"\n",
              "              style=\"display:none;\">\n",
              "        \n",
              "  <svg xmlns=\"http://www.w3.org/2000/svg\" height=\"24px\"viewBox=\"0 0 24 24\"\n",
              "       width=\"24px\">\n",
              "    <path d=\"M0 0h24v24H0V0z\" fill=\"none\"/>\n",
              "    <path d=\"M18.56 5.44l.94 2.06.94-2.06 2.06-.94-2.06-.94-.94-2.06-.94 2.06-2.06.94zm-11 1L8.5 8.5l.94-2.06 2.06-.94-2.06-.94L8.5 2.5l-.94 2.06-2.06.94zm10 10l.94 2.06.94-2.06 2.06-.94-2.06-.94-.94-2.06-.94 2.06-2.06.94z\"/><path d=\"M17.41 7.96l-1.37-1.37c-.4-.4-.92-.59-1.43-.59-.52 0-1.04.2-1.43.59L10.3 9.45l-7.72 7.72c-.78.78-.78 2.05 0 2.83L4 21.41c.39.39.9.59 1.41.59.51 0 1.02-.2 1.41-.59l7.78-7.78 2.81-2.81c.8-.78.8-2.07 0-2.86zM5.41 20L4 18.59l7.72-7.72 1.47 1.35L5.41 20z\"/>\n",
              "  </svg>\n",
              "      </button>\n",
              "      \n",
              "  <style>\n",
              "    .colab-df-container {\n",
              "      display:flex;\n",
              "      flex-wrap:wrap;\n",
              "      gap: 12px;\n",
              "    }\n",
              "\n",
              "    .colab-df-convert {\n",
              "      background-color: #E8F0FE;\n",
              "      border: none;\n",
              "      border-radius: 50%;\n",
              "      cursor: pointer;\n",
              "      display: none;\n",
              "      fill: #1967D2;\n",
              "      height: 32px;\n",
              "      padding: 0 0 0 0;\n",
              "      width: 32px;\n",
              "    }\n",
              "\n",
              "    .colab-df-convert:hover {\n",
              "      background-color: #E2EBFA;\n",
              "      box-shadow: 0px 1px 2px rgba(60, 64, 67, 0.3), 0px 1px 3px 1px rgba(60, 64, 67, 0.15);\n",
              "      fill: #174EA6;\n",
              "    }\n",
              "\n",
              "    [theme=dark] .colab-df-convert {\n",
              "      background-color: #3B4455;\n",
              "      fill: #D2E3FC;\n",
              "    }\n",
              "\n",
              "    [theme=dark] .colab-df-convert:hover {\n",
              "      background-color: #434B5C;\n",
              "      box-shadow: 0px 1px 3px 1px rgba(0, 0, 0, 0.15);\n",
              "      filter: drop-shadow(0px 1px 2px rgba(0, 0, 0, 0.3));\n",
              "      fill: #FFFFFF;\n",
              "    }\n",
              "  </style>\n",
              "\n",
              "      <script>\n",
              "        const buttonEl =\n",
              "          document.querySelector('#df-03825dc1-9462-449f-a62a-031a62b2d858 button.colab-df-convert');\n",
              "        buttonEl.style.display =\n",
              "          google.colab.kernel.accessAllowed ? 'block' : 'none';\n",
              "\n",
              "        async function convertToInteractive(key) {\n",
              "          const element = document.querySelector('#df-03825dc1-9462-449f-a62a-031a62b2d858');\n",
              "          const dataTable =\n",
              "            await google.colab.kernel.invokeFunction('convertToInteractive',\n",
              "                                                     [key], {});\n",
              "          if (!dataTable) return;\n",
              "\n",
              "          const docLinkHtml = 'Like what you see? Visit the ' +\n",
              "            '<a target=\"_blank\" href=https://colab.research.google.com/notebooks/data_table.ipynb>data table notebook</a>'\n",
              "            + ' to learn more about interactive tables.';\n",
              "          element.innerHTML = '';\n",
              "          dataTable['output_type'] = 'display_data';\n",
              "          await google.colab.output.renderOutput(dataTable, element);\n",
              "          const docLink = document.createElement('div');\n",
              "          docLink.innerHTML = docLinkHtml;\n",
              "          element.appendChild(docLink);\n",
              "        }\n",
              "      </script>\n",
              "    </div>\n",
              "  </div>\n",
              "  "
            ]
          },
          "metadata": {},
          "execution_count": 177
        }
      ]
    },
    {
      "cell_type": "markdown",
      "metadata": {
        "id": "kaTeJ06utRQF"
      },
      "source": [
        "3.5 Проверьте, содержит ли столбец `n_steps` пропуски. Если нет, то преобразуйте его к целочисленному типу и сохраните результаты в файл `recipes_sample_with_filled_nsteps.csv`"
      ]
    },
    {
      "cell_type": "code",
      "execution_count": 178,
      "metadata": {
        "id": "Nxjw6fH2tRQH",
        "colab": {
          "base_uri": "https://localhost:8080/"
        },
        "outputId": "3f6353c1-9731-4316-cddd-6a73bc2e4b50"
      },
      "outputs": [
        {
          "output_type": "stream",
          "name": "stdout",
          "text": [
            "Количество пропусков: 0\n"
          ]
        }
      ],
      "source": [
        "n_steps_Nan = recipes['n_steps'].isna().sum()\n",
        "print('Количество пропусков:', n_steps_Nan)\n",
        "\n",
        "recipes.to_csv('recipes_sample_with_filled_nsteps.csv', index=False, encoding='utf-8')"
      ]
    }
  ],
  "metadata": {
    "colab": {
      "provenance": []
    },
    "kernelspec": {
      "display_name": "Python 3",
      "language": "python",
      "name": "python3"
    },
    "language_info": {
      "codemirror_mode": {
        "name": "ipython",
        "version": 3
      },
      "file_extension": ".py",
      "mimetype": "text/x-python",
      "name": "python",
      "nbconvert_exporter": "python",
      "pygments_lexer": "ipython3",
      "version": "3.7.6"
    }
  },
  "nbformat": 4,
  "nbformat_minor": 0
}